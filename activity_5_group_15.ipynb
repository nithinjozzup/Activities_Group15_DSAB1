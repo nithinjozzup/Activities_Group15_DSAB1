{
 "cells": [
  {
   "cell_type": "markdown",
   "id": "15ff4b22",
   "metadata": {},
   "source": [
    "# Q&A Activity Question Week -06\n",
    "Read the data set into python (Find the dataset here)\n",
    "1.\tFind out how many countries are there in the dataset.\n",
    "2.\tFind out how many countries with respect to the region are available in the dataset\n",
    "3.\tOn average which region has the highest\n",
    "a.\tGDP per capita (current US$)\n",
    "b.\tInternational trade: Imports (million US$)\n",
    "4.\tFind out which region has more consistent with respect to GDP per capita (current US$)\n"
   ]
  },
  {
   "cell_type": "markdown",
   "id": "508248c0",
   "metadata": {},
   "source": [
    "# Importing Libraries"
   ]
  },
  {
   "cell_type": "code",
   "execution_count": 56,
   "id": "eab23adb",
   "metadata": {},
   "outputs": [],
   "source": [
    "import numpy as np\n",
    "import pandas as pd\n",
    "import matplotlib.pyplot as plt\n",
    "import seaborn as sns"
   ]
  },
  {
   "cell_type": "markdown",
   "id": "a4bdec6e",
   "metadata": {},
   "source": [
    "# Data is given as a excel file and importing into python environment."
   ]
  },
  {
   "cell_type": "code",
   "execution_count": 4,
   "id": "8ea79c5a",
   "metadata": {},
   "outputs": [],
   "source": [
    "Countries_GDP=pd.read_excel(r'C:\\Users\\NJ\\Downloads\\Dataset_w6.xlsx')"
   ]
  },
  {
   "cell_type": "markdown",
   "id": "42487cdf",
   "metadata": {},
   "source": [
    "# checking data is imported to Python environment by printing the data."
   ]
  },
  {
   "cell_type": "code",
   "execution_count": 5,
   "id": "b3bac2d1",
   "metadata": {},
   "outputs": [
    {
     "data": {
      "text/html": [
       "<div>\n",
       "<style scoped>\n",
       "    .dataframe tbody tr th:only-of-type {\n",
       "        vertical-align: middle;\n",
       "    }\n",
       "\n",
       "    .dataframe tbody tr th {\n",
       "        vertical-align: top;\n",
       "    }\n",
       "\n",
       "    .dataframe thead th {\n",
       "        text-align: right;\n",
       "    }\n",
       "</style>\n",
       "<table border=\"1\" class=\"dataframe\">\n",
       "  <thead>\n",
       "    <tr style=\"text-align: right;\">\n",
       "      <th></th>\n",
       "      <th>country</th>\n",
       "      <th>Region</th>\n",
       "      <th>Surface area (km2)</th>\n",
       "      <th>Population in thousands (2017)</th>\n",
       "      <th>GDP per capita (current US$)</th>\n",
       "      <th>Agricultural production index</th>\n",
       "      <th>International trade: Imports (million US$)</th>\n",
       "    </tr>\n",
       "  </thead>\n",
       "  <tbody>\n",
       "    <tr>\n",
       "      <th>0</th>\n",
       "      <td>Afghanistan</td>\n",
       "      <td>SouthernAsia</td>\n",
       "      <td>652864</td>\n",
       "      <td>35530</td>\n",
       "      <td>623.2</td>\n",
       "      <td>125</td>\n",
       "      <td>3568</td>\n",
       "    </tr>\n",
       "    <tr>\n",
       "      <th>1</th>\n",
       "      <td>Albania</td>\n",
       "      <td>SouthernEurope</td>\n",
       "      <td>28748</td>\n",
       "      <td>2930</td>\n",
       "      <td>3984.2</td>\n",
       "      <td>134</td>\n",
       "      <td>4669</td>\n",
       "    </tr>\n",
       "    <tr>\n",
       "      <th>2</th>\n",
       "      <td>Algeria</td>\n",
       "      <td>NorthernAfrica</td>\n",
       "      <td>2381741</td>\n",
       "      <td>41318</td>\n",
       "      <td>4154.1</td>\n",
       "      <td>160</td>\n",
       "      <td>47091</td>\n",
       "    </tr>\n",
       "    <tr>\n",
       "      <th>3</th>\n",
       "      <td>Angola</td>\n",
       "      <td>MiddleAfrica</td>\n",
       "      <td>1246700</td>\n",
       "      <td>29784</td>\n",
       "      <td>4714.1</td>\n",
       "      <td>175</td>\n",
       "      <td>8790</td>\n",
       "    </tr>\n",
       "    <tr>\n",
       "      <th>4</th>\n",
       "      <td>Antigua and Barbuda</td>\n",
       "      <td>Caribbean</td>\n",
       "      <td>442</td>\n",
       "      <td>102</td>\n",
       "      <td>14764.5</td>\n",
       "      <td>88</td>\n",
       "      <td>491</td>\n",
       "    </tr>\n",
       "  </tbody>\n",
       "</table>\n",
       "</div>"
      ],
      "text/plain": [
       "               country          Region  Surface area (km2)  \\\n",
       "0          Afghanistan    SouthernAsia              652864   \n",
       "1              Albania  SouthernEurope               28748   \n",
       "2              Algeria  NorthernAfrica             2381741   \n",
       "3               Angola    MiddleAfrica             1246700   \n",
       "4  Antigua and Barbuda       Caribbean                 442   \n",
       "\n",
       "   Population in thousands (2017)  GDP per capita (current US$)  \\\n",
       "0                           35530                         623.2   \n",
       "1                            2930                        3984.2   \n",
       "2                           41318                        4154.1   \n",
       "3                           29784                        4714.1   \n",
       "4                             102                       14764.5   \n",
       "\n",
       "   Agricultural production index   International trade: Imports (million US$)  \n",
       "0                             125                                        3568  \n",
       "1                             134                                        4669  \n",
       "2                             160                                       47091  \n",
       "3                             175                                        8790  \n",
       "4                              88                                         491  "
      ]
     },
     "execution_count": 5,
     "metadata": {},
     "output_type": "execute_result"
    }
   ],
   "source": [
    "Countries_GDP.head()"
   ]
  },
  {
   "cell_type": "markdown",
   "id": "cebd199d",
   "metadata": {},
   "source": [
    "# 1. Find out how many countries are there in the dataset.\n",
    "    Taking the count of values available in column which contains contry names"
   ]
  },
  {
   "cell_type": "code",
   "execution_count": 6,
   "id": "e659d76e",
   "metadata": {},
   "outputs": [
    {
     "name": "stdout",
     "output_type": "stream",
     "text": [
      "Total Number of Countries =  196\n"
     ]
    }
   ],
   "source": [
    "Count_of_Countries = Countries_GDP[\"country\"].count()\n",
    "print(\"Total Number of Countries = \",Count_of_Countries)"
   ]
  },
  {
   "cell_type": "markdown",
   "id": "c1275eb8",
   "metadata": {},
   "source": [
    "# 2. Find out how many countries with respect to the region are available in the dataset.\n",
    "    Created groups in the countries on the basis of regions"
   ]
  },
  {
   "cell_type": "code",
   "execution_count": 45,
   "id": "6700f8a8",
   "metadata": {},
   "outputs": [
    {
     "name": "stdout",
     "output_type": "stream",
     "text": [
      "Classifying based on region the number of countries in each region are:\n",
      "\n"
     ]
    },
    {
     "data": {
      "text/html": [
       "<div>\n",
       "<style scoped>\n",
       "    .dataframe tbody tr th:only-of-type {\n",
       "        vertical-align: middle;\n",
       "    }\n",
       "\n",
       "    .dataframe tbody tr th {\n",
       "        vertical-align: top;\n",
       "    }\n",
       "\n",
       "    .dataframe thead th {\n",
       "        text-align: right;\n",
       "    }\n",
       "</style>\n",
       "<table border=\"1\" class=\"dataframe\">\n",
       "  <thead>\n",
       "    <tr style=\"text-align: right;\">\n",
       "      <th></th>\n",
       "      <th>index</th>\n",
       "      <th>Region</th>\n",
       "      <th>size</th>\n",
       "    </tr>\n",
       "  </thead>\n",
       "  <tbody>\n",
       "    <tr>\n",
       "      <th>0</th>\n",
       "      <td>20</td>\n",
       "      <td>WesternAsia</td>\n",
       "      <td>18</td>\n",
       "    </tr>\n",
       "    <tr>\n",
       "      <th>1</th>\n",
       "      <td>3</td>\n",
       "      <td>EasternAfrica</td>\n",
       "      <td>17</td>\n",
       "    </tr>\n",
       "    <tr>\n",
       "      <th>2</th>\n",
       "      <td>0</td>\n",
       "      <td>Caribbean</td>\n",
       "      <td>16</td>\n",
       "    </tr>\n",
       "    <tr>\n",
       "      <th>3</th>\n",
       "      <td>19</td>\n",
       "      <td>WesternAfrica</td>\n",
       "      <td>15</td>\n",
       "    </tr>\n",
       "    <tr>\n",
       "      <th>4</th>\n",
       "      <td>18</td>\n",
       "      <td>SouthernEurope</td>\n",
       "      <td>12</td>\n",
       "    </tr>\n",
       "    <tr>\n",
       "      <th>5</th>\n",
       "      <td>15</td>\n",
       "      <td>SouthAmerica</td>\n",
       "      <td>12</td>\n",
       "    </tr>\n",
       "    <tr>\n",
       "      <th>6</th>\n",
       "      <td>14</td>\n",
       "      <td>South-easternAsia</td>\n",
       "      <td>11</td>\n",
       "    </tr>\n",
       "    <tr>\n",
       "      <th>7</th>\n",
       "      <td>11</td>\n",
       "      <td>NorthernEurope</td>\n",
       "      <td>10</td>\n",
       "    </tr>\n",
       "    <tr>\n",
       "      <th>8</th>\n",
       "      <td>5</td>\n",
       "      <td>EasternEurope</td>\n",
       "      <td>10</td>\n",
       "    </tr>\n",
       "    <tr>\n",
       "      <th>9</th>\n",
       "      <td>8</td>\n",
       "      <td>MiddleAfrica</td>\n",
       "      <td>9</td>\n",
       "    </tr>\n",
       "    <tr>\n",
       "      <th>10</th>\n",
       "      <td>17</td>\n",
       "      <td>SouthernAsia</td>\n",
       "      <td>9</td>\n",
       "    </tr>\n",
       "    <tr>\n",
       "      <th>11</th>\n",
       "      <td>1</td>\n",
       "      <td>CentralAmerica</td>\n",
       "      <td>8</td>\n",
       "    </tr>\n",
       "    <tr>\n",
       "      <th>12</th>\n",
       "      <td>4</td>\n",
       "      <td>EasternAsia</td>\n",
       "      <td>7</td>\n",
       "    </tr>\n",
       "    <tr>\n",
       "      <th>13</th>\n",
       "      <td>21</td>\n",
       "      <td>WesternEurope</td>\n",
       "      <td>7</td>\n",
       "    </tr>\n",
       "    <tr>\n",
       "      <th>14</th>\n",
       "      <td>9</td>\n",
       "      <td>NorthernAfrica</td>\n",
       "      <td>5</td>\n",
       "    </tr>\n",
       "    <tr>\n",
       "      <th>15</th>\n",
       "      <td>13</td>\n",
       "      <td>Polynesia</td>\n",
       "      <td>5</td>\n",
       "    </tr>\n",
       "    <tr>\n",
       "      <th>16</th>\n",
       "      <td>6</td>\n",
       "      <td>Melanesia</td>\n",
       "      <td>5</td>\n",
       "    </tr>\n",
       "    <tr>\n",
       "      <th>17</th>\n",
       "      <td>16</td>\n",
       "      <td>SouthernAfrica</td>\n",
       "      <td>5</td>\n",
       "    </tr>\n",
       "    <tr>\n",
       "      <th>18</th>\n",
       "      <td>2</td>\n",
       "      <td>CentralAsia</td>\n",
       "      <td>5</td>\n",
       "    </tr>\n",
       "    <tr>\n",
       "      <th>19</th>\n",
       "      <td>10</td>\n",
       "      <td>NorthernAmerica</td>\n",
       "      <td>4</td>\n",
       "    </tr>\n",
       "    <tr>\n",
       "      <th>20</th>\n",
       "      <td>7</td>\n",
       "      <td>Micronesia</td>\n",
       "      <td>4</td>\n",
       "    </tr>\n",
       "    <tr>\n",
       "      <th>21</th>\n",
       "      <td>12</td>\n",
       "      <td>Oceania</td>\n",
       "      <td>2</td>\n",
       "    </tr>\n",
       "  </tbody>\n",
       "</table>\n",
       "</div>"
      ],
      "text/plain": [
       "    index             Region  size\n",
       "0      20        WesternAsia    18\n",
       "1       3      EasternAfrica    17\n",
       "2       0          Caribbean    16\n",
       "3      19      WesternAfrica    15\n",
       "4      18     SouthernEurope    12\n",
       "5      15       SouthAmerica    12\n",
       "6      14  South-easternAsia    11\n",
       "7      11     NorthernEurope    10\n",
       "8       5      EasternEurope    10\n",
       "9       8       MiddleAfrica     9\n",
       "10     17       SouthernAsia     9\n",
       "11      1     CentralAmerica     8\n",
       "12      4        EasternAsia     7\n",
       "13     21      WesternEurope     7\n",
       "14      9     NorthernAfrica     5\n",
       "15     13          Polynesia     5\n",
       "16      6          Melanesia     5\n",
       "17     16     SouthernAfrica     5\n",
       "18      2        CentralAsia     5\n",
       "19     10    NorthernAmerica     4\n",
       "20      7         Micronesia     4\n",
       "21     12            Oceania     2"
      ]
     },
     "execution_count": 45,
     "metadata": {},
     "output_type": "execute_result"
    }
   ],
   "source": [
    "grouped_countries = Countries_GDP.groupby(\"Region\",as_index=False).size().sort_values('size', ascending=False).reset_index()\n",
    "print('Classifying based on region the number of countries in each region are:\\n')\n",
    "grouped_countries\n"
   ]
  },
  {
   "cell_type": "code",
   "execution_count": 88,
   "id": "f5635a81",
   "metadata": {},
   "outputs": [
    {
     "data": {
      "text/plain": [
       "Text(0, 0.5, 'Number of Countries')"
      ]
     },
     "execution_count": 88,
     "metadata": {},
     "output_type": "execute_result"
    },
    {
     "data": {
      "image/png": "[encoded data removed]",
      "text/plain": [
       "<Figure size 1440x1080 with 1 Axes>"
      ]
     },
     "metadata": {
      "needs_background": "light"
     },
     "output_type": "display_data"
    }
   ],
   "source": [
    "#plotting graph for better understanding\n",
    "\n",
    "plt.figure(figsize=(20,15))\n",
    "plt.ylim(0,20)\n",
    "plt.xlabel(\"Region\",fontsize=20)\n",
    "plt.xticks(rotation=90)\n",
    "plt.yticks(range(0,20))\n",
    "\n",
    "\n",
    "graph=sns.barplot(x='Region',y='size',data=grouped_countries)\n",
    "plt.title('No of Countries in each Region',size=30)\n",
    "for p in graph.patches:\n",
    "        graph.annotate('{}'.format(p.get_height()), (p.get_x()+0.30, p.get_height()+0.3))\n",
    "plt.ylabel(\"Number of Countries\",fontsize=20)"
   ]
  },
  {
   "cell_type": "markdown",
   "id": "e58a564f",
   "metadata": {},
   "source": [
    "# INSIGHT\n",
    "    There are number of countries ranging form 2 to 18 according to the region"
   ]
  },
  {
   "cell_type": "markdown",
   "id": "323843b8",
   "metadata": {},
   "source": [
    "# 3. On average which region has the highest\n"
   ]
  },
  {
   "cell_type": "markdown",
   "id": "743581d7",
   "metadata": {},
   "source": [
    "# a) GDP per capita (current US$)"
   ]
  },
  {
   "cell_type": "code",
   "execution_count": 54,
   "id": "255c5526",
   "metadata": {},
   "outputs": [
    {
     "name": "stdout",
     "output_type": "stream",
     "text": [
      "The Region that has the highest GDP per capita (current US$):\n",
      "\n"
     ]
    },
    {
     "data": {
      "text/html": [
       "<div>\n",
       "<style scoped>\n",
       "    .dataframe tbody tr th:only-of-type {\n",
       "        vertical-align: middle;\n",
       "    }\n",
       "\n",
       "    .dataframe tbody tr th {\n",
       "        vertical-align: top;\n",
       "    }\n",
       "\n",
       "    .dataframe thead th {\n",
       "        text-align: right;\n",
       "    }\n",
       "</style>\n",
       "<table border=\"1\" class=\"dataframe\">\n",
       "  <thead>\n",
       "    <tr style=\"text-align: right;\">\n",
       "      <th></th>\n",
       "      <th>Region</th>\n",
       "      <th>GDP per capita (current US$)</th>\n",
       "    </tr>\n",
       "  </thead>\n",
       "  <tbody>\n",
       "    <tr>\n",
       "      <th>10</th>\n",
       "      <td>NorthernAmerica</td>\n",
       "      <td>57659.0</td>\n",
       "    </tr>\n",
       "  </tbody>\n",
       "</table>\n",
       "</div>"
      ],
      "text/plain": [
       "             Region  GDP per capita (current US$)\n",
       "10  NorthernAmerica                       57659.0"
      ]
     },
     "execution_count": 54,
     "metadata": {},
     "output_type": "execute_result"
    }
   ],
   "source": [
    "mean_GDP = Countries_GDP.groupby(\"Region\")[\"GDP per capita (current US$)\"].mean().reset_index()\n",
    "highest_GDP=mean_GDP.sort_values('GDP per capita (current US$)',ascending=False).head(1)\n",
    "print('The Region that has the highest GDP per capita (current US$):\\n')\n",
    "highest_GDP"
   ]
  },
  {
   "cell_type": "markdown",
   "id": "a6b0b74e",
   "metadata": {},
   "source": [
    "# NorthernAmerica has the highest GDP per capita (current US)=57659$"
   ]
  },
  {
   "cell_type": "markdown",
   "id": "dd7fc1b6",
   "metadata": {},
   "source": [
    "# b. International trade: Imports (million US$)"
   ]
  },
  {
   "cell_type": "code",
   "execution_count": 41,
   "id": "41d47109",
   "metadata": {},
   "outputs": [
    {
     "name": "stdout",
     "output_type": "stream",
     "text": [
      "The Region that has the highest International trade: Imports (million US$):\n"
     ]
    },
    {
     "data": {
      "text/html": [
       "<div>\n",
       "<style scoped>\n",
       "    .dataframe tbody tr th:only-of-type {\n",
       "        vertical-align: middle;\n",
       "    }\n",
       "\n",
       "    .dataframe tbody tr th {\n",
       "        vertical-align: top;\n",
       "    }\n",
       "\n",
       "    .dataframe thead th {\n",
       "        text-align: right;\n",
       "    }\n",
       "</style>\n",
       "<table border=\"1\" class=\"dataframe\">\n",
       "  <thead>\n",
       "    <tr style=\"text-align: right;\">\n",
       "      <th></th>\n",
       "      <th>Region</th>\n",
       "      <th>International trade: Imports (million US$)</th>\n",
       "    </tr>\n",
       "  </thead>\n",
       "  <tbody>\n",
       "    <tr>\n",
       "      <th>10</th>\n",
       "      <td>NorthernAmerica</td>\n",
       "      <td>663552.25</td>\n",
       "    </tr>\n",
       "  </tbody>\n",
       "</table>\n",
       "</div>"
      ],
      "text/plain": [
       "             Region  International trade: Imports (million US$)\n",
       "10  NorthernAmerica                                   663552.25"
      ]
     },
     "execution_count": 41,
     "metadata": {},
     "output_type": "execute_result"
    }
   ],
   "source": [
    "mean_Import = Countries_GDP.groupby(\"Region\")[\"International trade: Imports (million US$)\"].mean().reset_index()\n",
    "highest_Import=mean_Import.sort_values(\"International trade: Imports (million US$)\",ascending=False).head(1)\n",
    "print('The Region that has the highest International trade: Imports (million US$):')\n",
    "highest_Import"
   ]
  },
  {
   "cell_type": "markdown",
   "id": "beab71c1",
   "metadata": {},
   "source": [
    "# NorthernAmerica has the highest International trade: Imports (million US)=663552.25$"
   ]
  },
  {
   "cell_type": "markdown",
   "id": "02cae764",
   "metadata": {},
   "source": [
    "# 4. Find out which region has more consistent with respect to GDP per capita (current US$)"
   ]
  },
  {
   "cell_type": "code",
   "execution_count": 38,
   "id": "90cd9e1f",
   "metadata": {},
   "outputs": [
    {
     "name": "stdout",
     "output_type": "stream",
     "text": [
      "The Region that has more consistent with respect to GDP per capita (current US$):\n"
     ]
    },
    {
     "data": {
      "text/html": [
       "<div>\n",
       "<style scoped>\n",
       "    .dataframe tbody tr th:only-of-type {\n",
       "        vertical-align: middle;\n",
       "    }\n",
       "\n",
       "    .dataframe tbody tr th {\n",
       "        vertical-align: top;\n",
       "    }\n",
       "\n",
       "    .dataframe thead th {\n",
       "        text-align: right;\n",
       "    }\n",
       "</style>\n",
       "<table border=\"1\" class=\"dataframe\">\n",
       "  <thead>\n",
       "    <tr style=\"text-align: right;\">\n",
       "      <th></th>\n",
       "      <th>Region</th>\n",
       "      <th>GDP per capita (current US$)</th>\n",
       "    </tr>\n",
       "  </thead>\n",
       "  <tbody>\n",
       "    <tr>\n",
       "      <th>19</th>\n",
       "      <td>WesternAfrica</td>\n",
       "      <td>815.095399</td>\n",
       "    </tr>\n",
       "  </tbody>\n",
       "</table>\n",
       "</div>"
      ],
      "text/plain": [
       "           Region  GDP per capita (current US$)\n",
       "19  WesternAfrica                    815.095399"
      ]
     },
     "execution_count": 38,
     "metadata": {},
     "output_type": "execute_result"
    }
   ],
   "source": [
    "Std_GDP = Countries_GDP.groupby(\"Region\")[\"GDP per capita (current US$)\"].std().reset_index()\n",
    "consistant_GDP=Std_GDP.sort_values('GDP per capita (current US$)',ascending=True).head(1)\n",
    "print('The Region that has more consistent with respect to GDP per capita (current US$):')\n",
    "consistant_GDP"
   ]
  },
  {
   "cell_type": "markdown",
   "id": "3382ca38",
   "metadata": {},
   "source": [
    "# WesternAfrica has more consistent with respect to GDP per capita (current US)=815.095$"
   ]
  },
  {
   "cell_type": "code",
   "execution_count": null,
   "id": "2aea477a",
   "metadata": {},
   "outputs": [],
   "source": []
  }
 ],
 "metadata": {
  "kernelspec": {
   "display_name": "Python 3",
   "language": "python",
   "name": "python3"
  },
  "language_info": {
   "codemirror_mode": {
    "name": "ipython",
    "version": 3
   },
   "file_extension": ".py",
   "mimetype": "text/x-python",
   "name": "python",
   "nbconvert_exporter": "python",
   "pygments_lexer": "ipython3",
   "version": "3.8.8"
  }
 },
 "nbformat": 4,
 "nbformat_minor": 5
}
