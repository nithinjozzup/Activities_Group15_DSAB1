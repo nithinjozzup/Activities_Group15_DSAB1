{
 "cells": [
  {
   "cell_type": "markdown",
   "metadata": {
    "id": "4z_Z-K1tlrS7"
   },
   "source": [
    "## 1. Complete the following code to find the area of an equilateral triangle. Output should be as displayed"
   ]
  },
  {
   "cell_type": "code",
   "execution_count": 143,
   "metadata": {
    "id": "rP2qFD_SlrS_"
   },
   "outputs": [
    {
     "name": "stdout",
     "output_type": "stream",
     "text": [
      "Enter the side of the equilateral triangle: 5\n",
      "10.825317547305483\n"
     ]
    }
   ],
   "source": [
    "import math\n",
    "side = float(input(\"Enter the side of the equilateral triangle: \"))\n",
    "area = ((math.sqrt(3))/4)*pow(side,2)\n",
    "print(area)\n"
   ]
  },
  {
   "cell_type": "markdown",
   "metadata": {
    "id": "TjVKjIfclrTB"
   },
   "source": [
    "## 2. Write a program to count the number of each characters in a string"
   ]
  },
  {
   "cell_type": "code",
   "execution_count": 44,
   "metadata": {
    "id": "JY5seVUQlrTC"
   },
   "outputs": [
    {
     "name": "stdout",
     "output_type": "stream",
     "text": [
      "Enter the string:hello\n",
      "h   1 \n",
      "\n",
      "e   1 \n",
      "\n",
      "l   2 \n",
      "\n",
      "o   1 \n",
      "\n"
     ]
    }
   ],
   "source": [
    "string=input(\"Enter the string:\")\n",
    "\n",
    "length=len(string)\n",
    "\n",
    "for i in range(0,length):\n",
    "    x=0\n",
    "    count=string.count(string[i])\n",
    "    for j in range(i+1,length):\n",
    "        if string[j]==string[i]:\n",
    "            x=1\n",
    "    if x==0:\n",
    "        print(string[i],\" \",count,\"\\n\")\n",
    "   \n",
    "        \n",
    "    \n",
    "\n"
   ]
  },
  {
   "cell_type": "markdown",
   "metadata": {
    "id": "l3LCULfklrTD"
   },
   "source": [
    "## Write a program to find the area and perimeter of a rectangle using functions"
   ]
  },
  {
   "cell_type": "code",
   "execution_count": 2,
   "metadata": {
    "id": "8haQD8edlrTD"
   },
   "outputs": [
    {
     "name": "stdout",
     "output_type": "stream",
     "text": [
      "Enter the sides of rectangle\n",
      "Length:2\n",
      "Breadth:3\n",
      "The perimeter is: 10.0 \n",
      "The area is: 6.0\n"
     ]
    }
   ],
   "source": [
    "def AreaRec(a,b):\n",
    "    return a*b\n",
    "def PerRec(a,b):\n",
    "    return (2*(a+b))\n",
    "\n",
    "length=float(input(\"Enter the sides of rectangle\\nLength:\"))\n",
    "breadth=float(input(\"Breadth:\"))\n",
    "Area=float(AreaRec(length,breadth))\n",
    "Perim=float(PerRec(length,breadth))\n",
    "print(\"The perimeter is:\",Perim,\"\\nThe area is:\",Area)\n",
    "\n"
   ]
  },
  {
   "cell_type": "markdown",
   "metadata": {
    "id": "JHK4ZdsflrTE"
   },
   "source": [
    "## 4. Write a program to print the fibonacci series till a specified number"
   ]
  },
  {
   "cell_type": "code",
   "execution_count": 56,
   "metadata": {
    "id": "LyBEj-4SlrTE"
   },
   "outputs": [
    {
     "name": "stdout",
     "output_type": "stream",
     "text": [
      "Enter the range:8\n",
      "0\n",
      "1\n",
      "1\n",
      "2\n",
      "3\n",
      "5\n",
      "8\n",
      "13\n"
     ]
    }
   ],
   "source": [
    "def fibo(n):\n",
    "    count=0\n",
    "    a=0\n",
    "    b=1\n",
    "    for i in range(0,n):\n",
    "        print(a)\n",
    "        c=a+b\n",
    "        a=b\n",
    "        b=c\n",
    "num=int(input(\"Enter the range:\"))\n",
    "fibo(num)"
   ]
  },
  {
   "cell_type": "markdown",
   "metadata": {
    "id": "u4uBUcQKlrTE"
   },
   "source": [
    "## 5. Complete the following code to find the minimum of 3 number using cinditional statements. Output should be as displayed"
   ]
  },
  {
   "cell_type": "code",
   "execution_count": 69,
   "metadata": {
    "id": "XdZwrZjIlrTF"
   },
   "outputs": [
    {
     "name": "stdout",
     "output_type": "stream",
     "text": [
      "Enter three numbers followed by  : 5 1 8\n",
      "First number : 5\n",
      "Second number : 1\n",
      "Third number : 8\n",
      "1  is smallest\n"
     ]
    }
   ],
   "source": [
    "a,b,c = input(\"Enter three numbers followed by  : \").split()\n",
    "\n",
    "print(\"First number :\",a)\n",
    "print(\"Second number :\",b)\n",
    "print(\"Third number :\",c)\n",
    "if(a==b==c):\n",
    "    print(\"Entered numbers are equal!!!\")\n",
    "elif(a<b and a<c):\n",
    "    print(a,\" is smallest\")\n",
    "elif(b<a and b<c):\n",
    "    print(b,\" is smallest\")\n",
    "elif(c<a and c<b):\n",
    "    print(c,\" is smallest\")\n",
    "\n",
    "\n",
    "\n"
   ]
  },
  {
   "cell_type": "markdown",
   "metadata": {
    "id": "aR_CnToWlrTG"
   },
   "source": [
    "## 6. Write a program to print star pyramind. The number of rows should be taken as input from the user"
   ]
  },
  {
   "cell_type": "code",
   "execution_count": 89,
   "metadata": {
    "id": "M37A-buplrTG"
   },
   "outputs": [
    {
     "name": "stdout",
     "output_type": "stream",
     "text": [
      "Enter the number of rows:8\n",
      "       * \n",
      "      * * \n",
      "     * * * \n",
      "    * * * * \n",
      "   * * * * * \n",
      "  * * * * * * \n",
      " * * * * * * * \n",
      "* * * * * * * * \n"
     ]
    }
   ],
   "source": [
    "rows=int(input(\"Enter the number of rows:\"))\n",
    "for i in range(1,rows+1):\n",
    "        print(\" \"*(rows-i)+\"* \"*i)\n"
   ]
  },
  {
   "cell_type": "markdown",
   "metadata": {
    "id": "tlY6aFWBlrTH"
   },
   "source": [
    "## 7. Complete the following code to convert hour into seconds. Output should be as displayed"
   ]
  },
  {
   "cell_type": "code",
   "execution_count": 144,
   "metadata": {
    "id": "YOZQFk7FlrTH"
   },
   "outputs": [
    {
     "name": "stdout",
     "output_type": "stream",
     "text": [
      "Input time in Hours:3\n",
      "3  Hour is equal to 10800  Seconds\n"
     ]
    }
   ],
   "source": [
    "def to_seconds(t):\n",
    "    \n",
    "    return (t*60*60)\n",
    "time_in_hours=int(input(\"Input time in Hours:\"))\n",
    "\n",
    "print(time_in_hours,\" Hour is equal to\" ,to_seconds(time_in_hours) ,\" Seconds\")"
   ]
  },
  {
   "cell_type": "markdown",
   "metadata": {
    "id": "CnYorNiLlrTI"
   },
   "source": [
    "## 8. Write a program to print multiplication table as below"
   ]
  },
  {
   "cell_type": "code",
   "execution_count": 110,
   "metadata": {
    "id": "dPQqDPuDlrTI"
   },
   "outputs": [
    {
     "name": "stdout",
     "output_type": "stream",
     "text": [
      "Display multiplication table of:5\n",
      "Enter range:11\n",
      "1  *  5  =  5\n",
      "2  *  5  =  10\n",
      "3  *  5  =  15\n",
      "4  *  5  =  20\n",
      "5  *  5  =  25\n",
      "6  *  5  =  30\n",
      "7  *  5  =  35\n",
      "8  *  5  =  40\n",
      "9  *  5  =  45\n",
      "10  *  5  =  50\n",
      "11  *  5  =  55\n"
     ]
    }
   ],
   "source": [
    "num=int(input(\"Display multiplication table of:\"))\n",
    "rang=int(input(\"Enter range:\"))\n",
    "for i in range(1,rang+1):\n",
    "    print(i,\" * \",num,\" = \",i*num)"
   ]
  },
  {
   "cell_type": "markdown",
   "metadata": {
    "id": "Fiaez8iblrTI"
   },
   "source": [
    "## 9. Write a program to take your 5 favorite food as list and print each as 'I like Biriyani'"
   ]
  },
  {
   "cell_type": "code",
   "execution_count": 124,
   "metadata": {
    "id": "39W1zFX7lrTJ"
   },
   "outputs": [
    {
     "name": "stdout",
     "output_type": "stream",
     "text": [
      "Enter your top 5 favourite foods:\n",
      "\n",
      "No 1 :\n",
      "biryani\n",
      "No 2 :\n",
      "fried rice\n",
      "No 3 :\n",
      "pizza\n",
      "No 4 :\n",
      "burger\n",
      "No 5 :\n",
      "noodles\n",
      "I like biryani\n",
      "I like fried rice\n",
      "I like pizza\n",
      "I like burger\n",
      "I like noodles\n"
     ]
    }
   ],
   "source": [
    "food=[]\n",
    "print(\"Enter your top 5 favourite foods:\\n\")\n",
    "for i in range(1,6):\n",
    "    print(\"No\",i,\":\")\n",
    "    name=str(input())\n",
    "    food.append(name)\n",
    "for i in range(0,5):\n",
    "    print(\"I like \"+food[i])"
   ]
  },
  {
   "cell_type": "markdown",
   "metadata": {
    "id": "3vlcDNNEP7d_"
   },
   "source": [
    "## 10. Find error(s) in the following code(if any) and rewrite code.\n",
    "\n"
   ]
  },
  {
   "cell_type": "code",
   "execution_count": 142,
   "metadata": {
    "id": "coREkcY3P9sG"
   },
   "outputs": [
    {
     "name": "stdout",
     "output_type": "stream",
     "text": [
      "Enter value of x:2\n",
      "They are unequal\n",
      "They are unequal\n",
      "They are equal\n",
      "They are unequal\n",
      "They are unequal\n",
      "They are unequal\n",
      "They are unequal\n",
      "They are unequal\n",
      "They are unequal\n",
      "They are unequal\n"
     ]
    }
   ],
   "source": [
    "x=int(input(\"Enter value of x:\"))\n",
    "for y in range(0,10):\n",
    "     if (x==y):\n",
    "        print(\"They are equal\")\n",
    "     else:\n",
    "        print( \"They are unequal\")"
   ]
  },
  {
   "cell_type": "code",
   "execution_count": null,
   "metadata": {},
   "outputs": [],
   "source": []
  },
  {
   "cell_type": "code",
   "execution_count": null,
   "metadata": {},
   "outputs": [],
   "source": []
  },
  {
   "cell_type": "code",
   "execution_count": null,
   "metadata": {},
   "outputs": [],
   "source": []
  }
 ],
 "metadata": {
  "colab": {
   "collapsed_sections": [],
   "name": "Q&A activity student file.ipynb",
   "provenance": []
  },
  "kernelspec": {
   "display_name": "Python 3",
   "language": "python",
   "name": "python3"
  },
  "language_info": {
   "codemirror_mode": {
    "name": "ipython",
    "version": 3
   },
   "file_extension": ".py",
   "mimetype": "text/x-python",
   "name": "python",
   "nbconvert_exporter": "python",
   "pygments_lexer": "ipython3",
   "version": "3.8.8"
  }
 },
 "nbformat": 4,
 "nbformat_minor": 1
}
